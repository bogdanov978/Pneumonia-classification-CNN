{
 "cells": [
  {
   "cell_type": "code",
   "execution_count": 4,
   "id": "perceived-villa",
   "metadata": {},
   "outputs": [],
   "source": [
    "import os\n",
    "import cv2\n",
    "import numpy as np\n",
    "import csv\n",
    "from pathlib import Path\n"
   ]
  },
  {
   "cell_type": "code",
   "execution_count": null,
   "id": "spatial-height",
   "metadata": {},
   "outputs": [],
   "source": []
  },
  {
   "cell_type": "code",
   "execution_count": 5,
   "id": "filled-breathing",
   "metadata": {},
   "outputs": [],
   "source": [
    "img_size = 256\n",
    "def imgs_to_csv(set_type, class_label):\n",
    "    path = os.path.join(os.getcwd(), 'images', set_type, class_label)\n",
    "    csv_filename = set_type + '_' + class_label + '.csv'\n",
    "    Path(os.path.join(os.getcwd(), 'images', 'csv files', str(img_size))).mkdir(parents=True, exist_ok=True)\n",
    "    with open(os.path.join(os.getcwd(), 'images', 'csv files', str(img_size), csv_filename), 'w', newline='') as csvfile:\n",
    "        writer = csv.writer(csvfile)\n",
    "        count = 1\n",
    "        for img in os.listdir(path):\n",
    "            image = cv2.imread(os.path.join(path, img), cv2.IMREAD_GRAYSCALE)\n",
    "            resized_img = cv2.resize(image, (img_size, img_size)) \n",
    "            resized_img = np.array(resized_img) / 255\n",
    "            resized_img = resized_img.reshape(img_size*img_size)\n",
    "            writer.writerow(resized_img)\n",
    "            if count % 100 == 0:\n",
    "                print(count, end = ' ')\n",
    "            count += 1"
   ]
  },
  {
   "cell_type": "code",
   "execution_count": 7,
   "id": "liked-barrel",
   "metadata": {},
   "outputs": [
    {
     "name": "stdout",
     "output_type": "stream",
     "text": [
      "100 200 300 400 500 600 700 800 900 1000 "
     ]
    }
   ],
   "source": [
    "imgs_to_csv('train', 'NORMAL')"
   ]
  },
  {
   "cell_type": "code",
   "execution_count": 8,
   "id": "incident-theology",
   "metadata": {},
   "outputs": [
    {
     "name": "stdout",
     "output_type": "stream",
     "text": [
      "100 200 300 400 500 600 700 800 900 1000 1100 1200 1300 1400 1500 1600 1700 1800 1900 2000 2100 2200 2300 2400 2500 2600 2700 2800 2900 3000 3100 3200 3300 3400 3500 3600 3700 "
     ]
    }
   ],
   "source": [
    "imgs_to_csv('train', 'PNEUMONIA')"
   ]
  },
  {
   "cell_type": "code",
   "execution_count": 6,
   "id": "traditional-production",
   "metadata": {},
   "outputs": [
    {
     "name": "stdout",
     "output_type": "stream",
     "text": [
      "100 200 "
     ]
    }
   ],
   "source": [
    "imgs_to_csv('val', 'NORMAL')"
   ]
  },
  {
   "cell_type": "code",
   "execution_count": 9,
   "id": "combined-branch",
   "metadata": {},
   "outputs": [
    {
     "name": "stdout",
     "output_type": "stream",
     "text": [
      "100 200 "
     ]
    }
   ],
   "source": [
    "imgs_to_csv('val', 'PNEUMONIA')"
   ]
  },
  {
   "cell_type": "code",
   "execution_count": 10,
   "id": "educated-blame",
   "metadata": {},
   "outputs": [
    {
     "name": "stdout",
     "output_type": "stream",
     "text": [
      "100 200 300 "
     ]
    }
   ],
   "source": [
    "imgs_to_csv('test', 'NORMAL')"
   ]
  },
  {
   "cell_type": "code",
   "execution_count": 11,
   "id": "mechanical-alfred",
   "metadata": {},
   "outputs": [
    {
     "name": "stdout",
     "output_type": "stream",
     "text": [
      "100 200 300 "
     ]
    }
   ],
   "source": [
    "imgs_to_csv('test', 'PNEUMONIA')"
   ]
  },
  {
   "cell_type": "code",
   "execution_count": null,
   "id": "driving-occupation",
   "metadata": {},
   "outputs": [],
   "source": []
  }
 ],
 "metadata": {
  "kernelspec": {
   "display_name": "Python 3",
   "language": "python",
   "name": "python3"
  },
  "language_info": {
   "codemirror_mode": {
    "name": "ipython",
    "version": 3
   },
   "file_extension": ".py",
   "mimetype": "text/x-python",
   "name": "python",
   "nbconvert_exporter": "python",
   "pygments_lexer": "ipython3",
   "version": "3.8.5"
  }
 },
 "nbformat": 4,
 "nbformat_minor": 5
}
